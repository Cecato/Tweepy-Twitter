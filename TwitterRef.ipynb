{
 "cells": [
  {
   "cell_type": "code",
   "execution_count": 1,
   "metadata": {},
   "outputs": [],
   "source": [
    "from pyspark import SparkContext\n",
    "from pyspark.sql import SparkSession\n",
    "from pyspark.sql.functions import when\n",
    "from pyspark.sql.functions import lit\n",
    "import csv"
   ]
  },
  {
   "cell_type": "code",
   "execution_count": 2,
   "metadata": {},
   "outputs": [],
   "source": [
    "sc = SparkContext()\n",
    "\n",
    "spark = SparkSession \\\n",
    "    .builder \\\n",
    "    .appName(\"appName\") \\\n",
    "    .getOrCreate()"
   ]
  },
  {
   "cell_type": "code",
   "execution_count": 23,
   "metadata": {},
   "outputs": [],
   "source": [
    "path = \"Folder/Twitters.csv\"\n",
    "\n",
    "df = spark.read.option(\"header\", True).option(\"delimiter\", \";\").csv(path)"
   ]
  },
  {
   "cell_type": "code",
   "execution_count": null,
   "metadata": {},
   "outputs": [],
   "source": [
    "df.show()"
   ]
  },
  {
   "cell_type": "code",
   "execution_count": 25,
   "metadata": {},
   "outputs": [],
   "source": [
    "df = (df.withColumn(\"feel\", \\\n",
    "   when((df.tweet_text.contains(\":(\")), lit(\"triste\")) \\\n",
    "     .when((df.tweet_text.contains(\":)\")), lit(\"feliz\")) \\\n",
    "       .when((df.tweet_text.contains(\":-(\")), lit(\"triste\")) \\\n",
    "         .when((df.tweet_text.contains(\":-)\")), lit(\"feliz\")) \\\n",
    "     .otherwise(lit(None)) \\\n",
    "  ))\n",
    "\n",
    "df = (df.withColumn(\"emoji\", \\\n",
    "   when((df.tweet_text.contains(\":(\")), lit(\":(\")) \\\n",
    "     .when((df.tweet_text.contains(\":)\")), lit(\":)\")) \\\n",
    "       .when((df.tweet_text.contains(\":-(\")), lit(\":(\")) \\\n",
    "         .when((df.tweet_text.contains(\":-)\")), lit(\":)\")) \\\n",
    "     .otherwise(lit(None)) \\\n",
    "  ))\n",
    "\n",
    "df = (df.withColumn(\"politician\", \\\n",
    "   when((df.tweet_text.contains(\"@LulaOficial\")), lit(\"Lula\")) \\\n",
    "     .when((df.tweet_text.contains(\"@jairbolsonaro\")), lit(\"Bolsonaro\")) \\\n",
    "        .when((df.tweet_text.contains(\"@cirogomes\")), lit(\"Ciro\")) \\\n",
    "            .when((df.tweet_text.contains(\"@Haddad_Fernando\")), lit(\"Haddad\")) \\\n",
    "            .otherwise(lit(None)) \\\n",
    "  ))"
   ]
  },
  {
   "cell_type": "code",
   "execution_count": null,
   "metadata": {},
   "outputs": [],
   "source": [
    "df.show()"
   ]
  },
  {
   "cell_type": "code",
   "execution_count": 27,
   "metadata": {},
   "outputs": [],
   "source": [
    "df.toPandas().to_csv(\"Twitters.csv\", index=False, quoting=csv.QUOTE_NONNUMERIC, doublequote=False, escapechar=\"\\\\\",header=False, sep=\";\")"
   ]
  }
 ],
 "metadata": {
  "kernelspec": {
   "display_name": "Python 3.10.5 64-bit",
   "language": "python",
   "name": "python3"
  },
  "language_info": {
   "codemirror_mode": {
    "name": "ipython",
    "version": 3
   },
   "file_extension": ".py",
   "mimetype": "text/x-python",
   "name": "python",
   "nbconvert_exporter": "python",
   "pygments_lexer": "ipython3",
   "version": "3.10.7"
  },
  "orig_nbformat": 4,
  "vscode": {
   "interpreter": {
    "hash": "9f8688d2bc69c748babb560adc9158621fb8aef49546882c3e4c6326402dd0cc"
   }
  }
 },
 "nbformat": 4,
 "nbformat_minor": 2
}
