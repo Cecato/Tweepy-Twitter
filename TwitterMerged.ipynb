{
 "cells": [
  {
   "cell_type": "code",
   "execution_count": 1,
   "metadata": {},
   "outputs": [],
   "source": [
    "import pandas as pd\n",
    "import os\n",
    "import csv"
   ]
  },
  {
   "cell_type": "code",
   "execution_count": 2,
   "metadata": {},
   "outputs": [],
   "source": [
    "path = \"tweepy/\"\n",
    "\n",
    "file_list = [path + f for f in os.listdir(path) if f.startswith(\"Twitter\")]\n",
    "\n",
    "csv_list = []"
   ]
  },
  {
   "cell_type": "code",
   "execution_count": null,
   "metadata": {},
   "outputs": [],
   "source": [
    "for file in sorted(file_list):\n",
    "    csv_list.append(pd.read_csv(file))\n",
    "\n",
    "csv_merged = pd.concat(csv_list, ignore_index=True)\n",
    "\n",
    "path = \"RefZone/\"\n",
    "\n",
    "csv_merged[\"tweet_date\"] = pd.to_datetime(csv_merged[\"tweet_date\"])\n",
    "\n",
    "csv_merged.to_csv(path + 'TwitterMerged.csv', index=False, sep=\";\", quoting=csv.QUOTE_NONNUMERIC, doublequote=False, escapechar=\"\\\\\")"
   ]
  }
 ],
 "metadata": {
  "kernelspec": {
   "display_name": "Python 3.10.5 64-bit",
   "language": "python",
   "name": "python3"
  },
  "language_info": {
   "codemirror_mode": {
    "name": "ipython",
    "version": 3
   },
   "file_extension": ".py",
   "mimetype": "text/x-python",
   "name": "python",
   "nbconvert_exporter": "python",
   "pygments_lexer": "ipython3",
   "version": "3.10.7"
  },
  "orig_nbformat": 4,
  "vscode": {
   "interpreter": {
    "hash": "9f8688d2bc69c748babb560adc9158621fb8aef49546882c3e4c6326402dd0cc"
   }
  }
 },
 "nbformat": 4,
 "nbformat_minor": 2
}
