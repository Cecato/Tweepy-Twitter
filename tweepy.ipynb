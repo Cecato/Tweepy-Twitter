{
 "cells": [
  {
   "cell_type": "code",
   "execution_count": null,
   "metadata": {},
   "outputs": [],
   "source": [
    "! pip install tweepy\n",
    "! pip install pandas"
   ]
  },
  {
   "cell_type": "code",
   "execution_count": 72,
   "metadata": {},
   "outputs": [],
   "source": [
    "import tweepy\n",
    "import pandas as pd\n",
    "import json"
   ]
  },
  {
   "cell_type": "code",
   "execution_count": 73,
   "metadata": {},
   "outputs": [],
   "source": [
    "#Access Key\n",
    "twitter_keys = {\n",
    "    'consumer_key':         'type here: KEY',\n",
    "    'consumer_secret':      'type here: SECRET',\n",
    "    'access_token_key':      'type here: TOKEN KEY',\n",
    "    'access_token_secret':   'type here: TOKEN SECRET'\n",
    "}"
   ]
  },
  {
   "cell_type": "code",
   "execution_count": 75,
   "metadata": {},
   "outputs": [],
   "source": [
    "\n",
    "auth = tweepy.OAuthHandler(\n",
    "    twitter_keys[\"consumer_key\"], \n",
    "    twitter_keys[\"consumer_secret\"]\n",
    ")\n",
    "\n",
    "auth.set_access_token(\n",
    "    twitter_keys[\"access_token_key\"], \n",
    "    twitter_keys[\"access_token_secret\"]\n",
    ")\n",
    "\n",
    "api = tweepy.API(auth)"
   ]
  },
  {
   "cell_type": "code",
   "execution_count": 76,
   "metadata": {},
   "outputs": [],
   "source": [
    "#Filter\n",
    "query = \"Python \"\n",
    "#Amount of tweets /// the maximum is 2600 end points every 15 minutes\n",
    "n = 100\n",
    "\n",
    "public_tweets = tweepy.Cursor(\n",
    "    api.search_tweets,\n",
    "    q=query, \n",
    "    lang=\"pt-br\", \n",
    "    tweet_mode=\"extended\").items(n)\n",
    "\n"
   ]
  },
  {
   "cell_type": "code",
   "execution_count": 77,
   "metadata": {},
   "outputs": [],
   "source": [
    "#Create a Data\n",
    "data = []\n",
    "\n",
    "for tweet in public_tweets:\n",
    "    data.append({\n",
    "        \"id\": tweet.id,\n",
    "        \"tweet_text\": tweet.full_text,\n",
    "        \"tweet_date\": tweet.created_at.strftime('%Y/%m/%d %H:%M:%S'),\n",
    "        \"tweet_source\": tweet.source,\n",
    "        \"retweets\": tweet.retweet_count\n",
    "    })"
   ]
  },
  {
   "cell_type": "code",
   "execution_count": 78,
   "metadata": {},
   "outputs": [],
   "source": [
    "#Save CSV File\n",
    "df = pd.DataFrame(data, columns= [\"id\", \"tweet_text\", \"tweet_date\", \"tweet_source\", \"retweets\"])\n",
    "df.to_csv(\"Twitter.csv\", index=False)"
   ]
  },
  {
   "cell_type": "code",
   "execution_count": 79,
   "metadata": {},
   "outputs": [],
   "source": [
    "#Save Json File\n",
    "with open('Twitter.json', 'w', encoding='utf-8') as f:\n",
    "    json.dump(data, f, ensure_ascii=False, indent=4)"
   ]
  }
 ],
 "metadata": {
  "kernelspec": {
   "display_name": "Python 3.10.5 64-bit",
   "language": "python",
   "name": "python3"
  },
  "language_info": {
   "codemirror_mode": {
    "name": "ipython",
    "version": 3
   },
   "file_extension": ".py",
   "mimetype": "text/x-python",
   "name": "python",
   "nbconvert_exporter": "python",
   "pygments_lexer": "ipython3",
   "version": "3.10.7"
  },
  "orig_nbformat": 4,
  "vscode": {
   "interpreter": {
    "hash": "9f8688d2bc69c748babb560adc9158621fb8aef49546882c3e4c6326402dd0cc"
   }
  }
 },
 "nbformat": 4,
 "nbformat_minor": 2
}
